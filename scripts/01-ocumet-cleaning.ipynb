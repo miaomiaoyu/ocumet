{
 "cells": [
  {
   "cell_type": "code",
   "execution_count": 11,
   "metadata": {},
   "outputs": [],
   "source": [
    "import numpy as np\n",
    "from dataframe_utils import data_get, vars_filter, vars_merge, vars_fill_nan\n",
    "from workspace import workspace, paths_get, paths_join"
   ]
  },
  {
   "cell_type": "markdown",
   "metadata": {},
   "source": [
    "## 01 Data Cleaning\n",
    "\n",
    "For the whole dataset, then split into NAION and ODD separately"
   ]
  },
  {
   "cell_type": "code",
   "execution_count": 17,
   "metadata": {},
   "outputs": [
    {
     "name": "stdout",
     "output_type": "stream",
     "text": [
      "paths order: b.d.o.t.s\n",
      "you're in /Users/miaomiaoyu/workspace/ocumet\n",
      "Raw dataframe size: (192, 87)\n"
     ]
    },
    {
     "data": {
      "text/html": [
       "<div>\n",
       "<style scoped>\n",
       "    .dataframe tbody tr th:only-of-type {\n",
       "        vertical-align: middle;\n",
       "    }\n",
       "\n",
       "    .dataframe tbody tr th {\n",
       "        vertical-align: top;\n",
       "    }\n",
       "\n",
       "    .dataframe thead th {\n",
       "        text-align: right;\n",
       "    }\n",
       "</style>\n",
       "<table border=\"1\" class=\"dataframe\">\n",
       "  <thead>\n",
       "    <tr style=\"text-align: right;\">\n",
       "      <th></th>\n",
       "      <th>visit_no</th>\n",
       "      <th>date</th>\n",
       "      <th>subject_id</th>\n",
       "      <th>time_since_onset/diagnosis_(months)</th>\n",
       "      <th>date_of_image</th>\n",
       "      <th>months</th>\n",
       "      <th>diagnosis</th>\n",
       "      <th>eye</th>\n",
       "      <th>odd-aion_</th>\n",
       "      <th>bilateral</th>\n",
       "    </tr>\n",
       "  </thead>\n",
       "  <tbody>\n",
       "    <tr>\n",
       "      <th>0</th>\n",
       "      <td>5.0</td>\n",
       "      <td>2022-05-06</td>\n",
       "      <td>9</td>\n",
       "      <td>2020-03-01</td>\n",
       "      <td>2022-05-06</td>\n",
       "      <td>26.0</td>\n",
       "      <td>NAION</td>\n",
       "      <td>OD</td>\n",
       "      <td>NaN</td>\n",
       "      <td>Y</td>\n",
       "    </tr>\n",
       "    <tr>\n",
       "      <th>1</th>\n",
       "      <td>5.0</td>\n",
       "      <td>2022-05-06</td>\n",
       "      <td>9</td>\n",
       "      <td>2022-03-25</td>\n",
       "      <td>2022-05-06</td>\n",
       "      <td>1.0</td>\n",
       "      <td>NAION</td>\n",
       "      <td>OS</td>\n",
       "      <td>NaN</td>\n",
       "      <td>Y</td>\n",
       "    </tr>\n",
       "    <tr>\n",
       "      <th>2</th>\n",
       "      <td>1.0</td>\n",
       "      <td>2021-06-09</td>\n",
       "      <td>40</td>\n",
       "      <td>2020-01-09</td>\n",
       "      <td>2021-06-09</td>\n",
       "      <td>17.0</td>\n",
       "      <td>NAION</td>\n",
       "      <td>OS</td>\n",
       "      <td>NaN</td>\n",
       "      <td>N</td>\n",
       "    </tr>\n",
       "    <tr>\n",
       "      <th>3</th>\n",
       "      <td>1.0</td>\n",
       "      <td>2021-10-06</td>\n",
       "      <td>102</td>\n",
       "      <td>2020-09-18</td>\n",
       "      <td>2021-10-06</td>\n",
       "      <td>12.0</td>\n",
       "      <td>NAION</td>\n",
       "      <td>OD</td>\n",
       "      <td>NaN</td>\n",
       "      <td>Y</td>\n",
       "    </tr>\n",
       "    <tr>\n",
       "      <th>4</th>\n",
       "      <td>1.0</td>\n",
       "      <td>2022-05-13</td>\n",
       "      <td>137</td>\n",
       "      <td>2016-04-08</td>\n",
       "      <td>2022-05-13</td>\n",
       "      <td>73.0</td>\n",
       "      <td>NAION</td>\n",
       "      <td>OD</td>\n",
       "      <td>NaN</td>\n",
       "      <td>Y</td>\n",
       "    </tr>\n",
       "  </tbody>\n",
       "</table>\n",
       "</div>"
      ],
      "text/plain": [
       "   visit_no       date  subject_id time_since_onset/diagnosis_(months)  \\\n",
       "0       5.0 2022-05-06           9                          2020-03-01   \n",
       "1       5.0 2022-05-06           9                          2022-03-25   \n",
       "2       1.0 2021-06-09          40                          2020-01-09   \n",
       "3       1.0 2021-10-06         102                          2020-09-18   \n",
       "4       1.0 2022-05-13         137                          2016-04-08   \n",
       "\n",
       "  date_of_image  months diagnosis eye odd-aion_ bilateral  \n",
       "0    2022-05-06    26.0     NAION  OD       NaN         Y  \n",
       "1    2022-05-06     1.0     NAION  OS       NaN         Y  \n",
       "2    2021-06-09    17.0     NAION  OS       NaN         N  \n",
       "3    2021-10-06    12.0     NAION  OD       NaN         Y  \n",
       "4    2022-05-13    73.0     NAION  OD       NaN         Y  "
      ]
     },
     "metadata": {},
     "output_type": "display_data"
    },
    {
     "name": "stdout",
     "output_type": "stream",
     "text": [
      "Clean dataframe size: (183, 66)\n",
      "Control, NAION Bilateral, NAION Unilateral, Not control, ODD, ODD-NAION\n"
     ]
    }
   ],
   "source": [
    "workspace('ocumet')\n",
    "data = data_get('1209-raw-mmy.xlsx', lowercase=True)\n",
    "\n",
    "print('Raw dataframe size: (%s, %s)' % data.shape)\n",
    "\n",
    "data = data.dropna(subset=['subject_id'], axis='rows')\n",
    "data = vars_filter(data, ['rimprof'])\n",
    "data['bilateral_str'] = data['bilateral'].map({'Y':'Bilateral','N':'Unilateral'})\n",
    "data['bilateral_str'] = data['bilateral_str'].fillna('')\n",
    "data['subject_id'] = data['subject_id'].astype(int)\n",
    "data = vars_merge(data, {'id':['subject_id', 'eye'], 'group':['diagnosis', 'bilateral_str']})\n",
    "data['group'] = data['group'].str.replace('_',' ').str.strip()\n",
    "\n",
    "diagnosis_map = {\n",
    "    'not control':'Not control', 'ODD-AION':'ODD-NAION'}\n",
    "for k, v in diagnosis_map.items():\n",
    "    data.loc[data['group'].str.contains(k, case=False), 'group'] = v\n",
    "\n",
    "display(data.iloc[:5,:10].head())\n",
    "\n",
    "print('Clean dataframe size: (%s, %s)' % data.shape)\n",
    "print(', '.join(sorted(data.group.unique().tolist())))"
   ]
  },
  {
   "cell_type": "code",
   "execution_count": 26,
   "metadata": {},
   "outputs": [],
   "source": [
    "# Create new columns for whole eye FPF values\n",
    "data['fpf_disc'] = data[['fpf_rnfl_t', 'fpf_rnfl_s', 'fpf_rnfl_n', 'fpf_rnfl_i']].mean(axis=1)  # best way to get 'whole disc fpf'README.md\n",
    "data['fpf_mac'] = data[['mac_ret']]"
   ]
  },
  {
   "cell_type": "code",
   "execution_count": 27,
   "metadata": {},
   "outputs": [],
   "source": [
    "independent_vars = 'group'\n",
    "identification_vars = ['id', 'months', 'visit_no']\n",
    "dependent_vars = [d_var for d_var in data.columns for this_str in ['mean', 'oct', 'fpf', 'vf', 'hvf'] if d_var.startswith(this_str)]\n",
    "\n",
    "# Neaten up the dependent var column names for str.split later\n",
    "new_dependent_vars = [var.replace('cq_mac_', 'cq_').replace('gcc_mac_', 'gcc_') for var in dependent_vars]\n",
    "data = data.rename( columns=dict(zip(dependent_vars,new_dependent_vars)) )"
   ]
  },
  {
   "cell_type": "code",
   "execution_count": 28,
   "metadata": {},
   "outputs": [
    {
     "name": "stdout",
     "output_type": "stream",
     "text": [
      "NAION data saved out as '1209-naion.csv'\n",
      "ODD data saved out as '1209-odd.csv'\n"
     ]
    }
   ],
   "source": [
    "_,d,_,_,_ = paths_get('ocumet')\n",
    "\n",
    "for x in ['NAION', 'ODD']:\n",
    "    this_group = [y for y in data['group'].unique().tolist() if x in y]\n",
    "    group_data = data[data['group'].isin(this_group+['Control'])]\n",
    "    if x == 'NAION': \n",
    "        group_data = group_data[group_data['group']!='ODD-NAION']\n",
    "    group_data = vars_fill_nan(group_data, d_vars=new_dependent_vars, i_vars=independent_vars)\n",
    "    group_data['group_binary'] = np.where(group_data['group']=='Control', 'Control', x)\n",
    "    data_variables = [independent_vars] + identification_vars + new_dependent_vars + ['group_binary', 'good']\n",
    "    group_data[data_variables].to_csv(paths_join(d,'1209-%s.csv' % x.lower()), index=False)\n",
    "    print(\"%s data saved out as '1209-%s.csv'\" % (x, x.lower()))"
   ]
  }
 ],
 "metadata": {
  "kernelspec": {
   "display_name": "Python 3.10.8 64-bit",
   "language": "python",
   "name": "python3"
  },
  "language_info": {
   "codemirror_mode": {
    "name": "ipython",
    "version": 3
   },
   "file_extension": ".py",
   "mimetype": "text/x-python",
   "name": "python",
   "nbconvert_exporter": "python",
   "pygments_lexer": "ipython3",
   "version": "3.10.8"
  },
  "orig_nbformat": 4,
  "vscode": {
   "interpreter": {
    "hash": "eda7e54fe21129b67f77862937907ee926f057597a3e2fa1e18ac955e40912b3"
   }
  }
 },
 "nbformat": 4,
 "nbformat_minor": 2
}
